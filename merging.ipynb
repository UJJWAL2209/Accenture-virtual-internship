{
 "cells": [
  {
   "cell_type": "code",
   "execution_count": 1,
   "metadata": {},
   "outputs": [
    {
     "name": "stdout",
     "output_type": "stream",
     "text": [
      "   Unnamed: 0                            Content ID Content_type   \n",
      "0           0  97522e57-d9ab-4bd6-97bf-c24d952602d2        photo  \\\n",
      "1           1  9f737e0a-3cdd-4d29-9d24-753f4e3be810        photo   \n",
      "2           2  230c4e4d-70c3-461d-b42c-ec09396efb3f        photo   \n",
      "3           3  356fff80-da4d-4785-9f43-bc1261031dc6        photo   \n",
      "4           4  01ab84dd-6364-4236-abbb-3f237db77180        video   \n",
      "\n",
      "         Category  \n",
      "0        Studying  \n",
      "1  healthy eating  \n",
      "2  healthy eating  \n",
      "3      technology  \n",
      "4            food  \n"
     ]
    }
   ],
   "source": [
    "import pandas as pd\n",
    "\n",
    "# Read the CSV file into a DataFrame\n",
    "df = pd.read_csv('C:\\\\Users\\\\ASUS\\\\Desktop\\\\PROJECTS_DS\\\\Accenture-virtual-internship\\\\Cleaned datasets\\\\CONTENT.csv')\n",
    "\n",
    "# Access the data in the DataFrame\n",
    "print(df.head())  # Print the first few rows of the DataFrame"
   ]
  },
  {
   "cell_type": "code",
   "execution_count": 2,
   "metadata": {},
   "outputs": [
    {
     "name": "stdout",
     "output_type": "stream",
     "text": [
      "                             Content ID Reaction_type\n",
      "0  97522e57-d9ab-4bd6-97bf-c24d952602d2         heart\n",
      "1  97522e57-d9ab-4bd6-97bf-c24d952602d2       disgust\n",
      "2  97522e57-d9ab-4bd6-97bf-c24d952602d2       dislike\n",
      "3  97522e57-d9ab-4bd6-97bf-c24d952602d2        scared\n",
      "4  97522e57-d9ab-4bd6-97bf-c24d952602d2       disgust\n"
     ]
    }
   ],
   "source": [
    "# Read the CSV file into a DataFrame\n",
    "df1 = pd.read_csv('C:\\\\Users\\\\ASUS\\\\Desktop\\\\PROJECTS_DS\\\\Accenture-virtual-internship\\\\Cleaned datasets\\\\REACTION.csv')\n",
    "\n",
    "# Access the data in the DataFrame\n",
    "print(df1.head())  # Print the first few rows of the DataFrame"
   ]
  },
  {
   "cell_type": "code",
   "execution_count": 3,
   "metadata": {},
   "outputs": [
    {
     "name": "stdout",
     "output_type": "stream",
     "text": [
      "  Reaction_type Sentiment  Score\n",
      "0         heart  positive     60\n",
      "1          want  positive     70\n",
      "2       disgust  negative      0\n",
      "3          hate  negative      5\n",
      "4    interested  positive     30\n"
     ]
    }
   ],
   "source": [
    "# Read the CSV file into a DataFrame\n",
    "df2 = pd.read_csv('C:\\\\Users\\\\ASUS\\\\Desktop\\\\PROJECTS_DS\\\\Accenture-virtual-internship\\\\Cleaned datasets\\\\REACTION_TYPE.csv')\n",
    "\n",
    "# Access the data in the DataFrame\n",
    "print(df2.head())  # Print the first few rows of the DataFrame"
   ]
  },
  {
   "cell_type": "code",
   "execution_count": 4,
   "metadata": {},
   "outputs": [
    {
     "data": {
      "text/plain": [
       "(1000, 4)"
      ]
     },
     "execution_count": 4,
     "metadata": {},
     "output_type": "execute_result"
    }
   ],
   "source": [
    "df.shape"
   ]
  },
  {
   "cell_type": "code",
   "execution_count": 5,
   "metadata": {},
   "outputs": [
    {
     "data": {
      "text/plain": [
       "(25553, 2)"
      ]
     },
     "execution_count": 5,
     "metadata": {},
     "output_type": "execute_result"
    }
   ],
   "source": [
    "df1.shape"
   ]
  },
  {
   "cell_type": "code",
   "execution_count": 6,
   "metadata": {},
   "outputs": [
    {
     "data": {
      "text/plain": [
       "(16, 3)"
      ]
     },
     "execution_count": 6,
     "metadata": {},
     "output_type": "execute_result"
    }
   ],
   "source": [
    "df2.shape"
   ]
  },
  {
   "cell_type": "code",
   "execution_count": 7,
   "metadata": {},
   "outputs": [],
   "source": [
    "outer_merged = pd.merge(df,df1, how=\"outer\", on=[\"Content ID\"])"
   ]
  },
  {
   "cell_type": "code",
   "execution_count": 8,
   "metadata": {},
   "outputs": [
    {
     "data": {
      "text/plain": [
       "pandas.core.frame.DataFrame"
      ]
     },
     "execution_count": 8,
     "metadata": {},
     "output_type": "execute_result"
    }
   ],
   "source": [
    "type(outer_merged)"
   ]
  },
  {
   "cell_type": "code",
   "execution_count": 9,
   "metadata": {},
   "outputs": [
    {
     "name": "stdout",
     "output_type": "stream",
     "text": [
      "       Unnamed: 0                            Content ID Content_type   \n",
      "0               0  97522e57-d9ab-4bd6-97bf-c24d952602d2        photo  \\\n",
      "1               0  97522e57-d9ab-4bd6-97bf-c24d952602d2        photo   \n",
      "2               0  97522e57-d9ab-4bd6-97bf-c24d952602d2        photo   \n",
      "3               0  97522e57-d9ab-4bd6-97bf-c24d952602d2        photo   \n",
      "4               0  97522e57-d9ab-4bd6-97bf-c24d952602d2        photo   \n",
      "...           ...                                   ...          ...   \n",
      "25568         999  75d6b589-7fae-4a6d-b0d0-752845150e56        audio   \n",
      "25569         999  75d6b589-7fae-4a6d-b0d0-752845150e56        audio   \n",
      "25570         999  75d6b589-7fae-4a6d-b0d0-752845150e56        audio   \n",
      "25571         999  75d6b589-7fae-4a6d-b0d0-752845150e56        audio   \n",
      "25572         999  75d6b589-7fae-4a6d-b0d0-752845150e56        audio   \n",
      "\n",
      "         Category Reaction_type  \n",
      "0        Studying         heart  \n",
      "1        Studying       disgust  \n",
      "2        Studying       dislike  \n",
      "3        Studying        scared  \n",
      "4        Studying       disgust  \n",
      "...           ...           ...  \n",
      "25568  technology       dislike  \n",
      "25569  technology     intrigued  \n",
      "25570  technology    interested  \n",
      "25571  technology       worried  \n",
      "25572  technology       cherish  \n",
      "\n",
      "[25573 rows x 5 columns]\n"
     ]
    }
   ],
   "source": [
    "print(outer_merged)"
   ]
  },
  {
   "cell_type": "code",
   "execution_count": 10,
   "metadata": {},
   "outputs": [
    {
     "name": "stdout",
     "output_type": "stream",
     "text": [
      "<class 'pandas.core.frame.DataFrame'>\n",
      "RangeIndex: 25573 entries, 0 to 25572\n",
      "Data columns (total 5 columns):\n",
      " #   Column         Non-Null Count  Dtype \n",
      "---  ------         --------------  ----- \n",
      " 0   Unnamed: 0     25573 non-null  int64 \n",
      " 1   Content ID     25573 non-null  object\n",
      " 2   Content_type   25573 non-null  object\n",
      " 3   Category       25573 non-null  object\n",
      " 4   Reaction_type  25553 non-null  object\n",
      "dtypes: int64(1), object(4)\n",
      "memory usage: 999.1+ KB\n"
     ]
    }
   ],
   "source": [
    "outer_merged.info()"
   ]
  },
  {
   "cell_type": "code",
   "execution_count": 11,
   "metadata": {},
   "outputs": [
    {
     "data": {
      "text/plain": [
       "Unnamed: 0        0\n",
       "Content ID        0\n",
       "Content_type      0\n",
       "Category          0\n",
       "Reaction_type    20\n",
       "dtype: int64"
      ]
     },
     "execution_count": 11,
     "metadata": {},
     "output_type": "execute_result"
    }
   ],
   "source": [
    "outer_merged.isnull().sum()"
   ]
  },
  {
   "cell_type": "code",
   "execution_count": 12,
   "metadata": {},
   "outputs": [],
   "source": [
    "# Replace null values with the maximum number of entries in the column\n",
    "max_entries = outer_merged['Reaction_type'].value_counts().idxmax()\n",
    "outer_merged['Reaction_type'].fillna(max_entries, inplace=True)"
   ]
  },
  {
   "cell_type": "code",
   "execution_count": 13,
   "metadata": {},
   "outputs": [
    {
     "data": {
      "text/plain": [
       "Unnamed: 0       0\n",
       "Content ID       0\n",
       "Content_type     0\n",
       "Category         0\n",
       "Reaction_type    0\n",
       "dtype: int64"
      ]
     },
     "execution_count": 13,
     "metadata": {},
     "output_type": "execute_result"
    }
   ],
   "source": [
    "outer_merged.isnull().sum()"
   ]
  },
  {
   "cell_type": "code",
   "execution_count": 14,
   "metadata": {},
   "outputs": [
    {
     "data": {
      "text/html": [
       "<div>\n",
       "<style scoped>\n",
       "    .dataframe tbody tr th:only-of-type {\n",
       "        vertical-align: middle;\n",
       "    }\n",
       "\n",
       "    .dataframe tbody tr th {\n",
       "        vertical-align: top;\n",
       "    }\n",
       "\n",
       "    .dataframe thead th {\n",
       "        text-align: right;\n",
       "    }\n",
       "</style>\n",
       "<table border=\"1\" class=\"dataframe\">\n",
       "  <thead>\n",
       "    <tr style=\"text-align: right;\">\n",
       "      <th></th>\n",
       "      <th>Unnamed: 0</th>\n",
       "      <th>Content ID</th>\n",
       "      <th>Content_type</th>\n",
       "      <th>Category</th>\n",
       "      <th>Reaction_type</th>\n",
       "    </tr>\n",
       "  </thead>\n",
       "  <tbody>\n",
       "    <tr>\n",
       "      <th>0</th>\n",
       "      <td>0</td>\n",
       "      <td>97522e57-d9ab-4bd6-97bf-c24d952602d2</td>\n",
       "      <td>photo</td>\n",
       "      <td>Studying</td>\n",
       "      <td>heart</td>\n",
       "    </tr>\n",
       "    <tr>\n",
       "      <th>1</th>\n",
       "      <td>0</td>\n",
       "      <td>97522e57-d9ab-4bd6-97bf-c24d952602d2</td>\n",
       "      <td>photo</td>\n",
       "      <td>Studying</td>\n",
       "      <td>disgust</td>\n",
       "    </tr>\n",
       "    <tr>\n",
       "      <th>2</th>\n",
       "      <td>0</td>\n",
       "      <td>97522e57-d9ab-4bd6-97bf-c24d952602d2</td>\n",
       "      <td>photo</td>\n",
       "      <td>Studying</td>\n",
       "      <td>dislike</td>\n",
       "    </tr>\n",
       "    <tr>\n",
       "      <th>3</th>\n",
       "      <td>0</td>\n",
       "      <td>97522e57-d9ab-4bd6-97bf-c24d952602d2</td>\n",
       "      <td>photo</td>\n",
       "      <td>Studying</td>\n",
       "      <td>scared</td>\n",
       "    </tr>\n",
       "    <tr>\n",
       "      <th>4</th>\n",
       "      <td>0</td>\n",
       "      <td>97522e57-d9ab-4bd6-97bf-c24d952602d2</td>\n",
       "      <td>photo</td>\n",
       "      <td>Studying</td>\n",
       "      <td>disgust</td>\n",
       "    </tr>\n",
       "  </tbody>\n",
       "</table>\n",
       "</div>"
      ],
      "text/plain": [
       "   Unnamed: 0                            Content ID Content_type  Category   \n",
       "0           0  97522e57-d9ab-4bd6-97bf-c24d952602d2        photo  Studying  \\\n",
       "1           0  97522e57-d9ab-4bd6-97bf-c24d952602d2        photo  Studying   \n",
       "2           0  97522e57-d9ab-4bd6-97bf-c24d952602d2        photo  Studying   \n",
       "3           0  97522e57-d9ab-4bd6-97bf-c24d952602d2        photo  Studying   \n",
       "4           0  97522e57-d9ab-4bd6-97bf-c24d952602d2        photo  Studying   \n",
       "\n",
       "  Reaction_type  \n",
       "0         heart  \n",
       "1       disgust  \n",
       "2       dislike  \n",
       "3        scared  \n",
       "4       disgust  "
      ]
     },
     "execution_count": 14,
     "metadata": {},
     "output_type": "execute_result"
    }
   ],
   "source": [
    "outer_merged.head()"
   ]
  },
  {
   "cell_type": "code",
   "execution_count": 15,
   "metadata": {},
   "outputs": [
    {
     "data": {
      "text/html": [
       "<div>\n",
       "<style scoped>\n",
       "    .dataframe tbody tr th:only-of-type {\n",
       "        vertical-align: middle;\n",
       "    }\n",
       "\n",
       "    .dataframe tbody tr th {\n",
       "        vertical-align: top;\n",
       "    }\n",
       "\n",
       "    .dataframe thead th {\n",
       "        text-align: right;\n",
       "    }\n",
       "</style>\n",
       "<table border=\"1\" class=\"dataframe\">\n",
       "  <thead>\n",
       "    <tr style=\"text-align: right;\">\n",
       "      <th></th>\n",
       "      <th>Unnamed: 0</th>\n",
       "      <th>Content ID</th>\n",
       "      <th>Content_type</th>\n",
       "      <th>Category</th>\n",
       "      <th>Reaction_type</th>\n",
       "    </tr>\n",
       "  </thead>\n",
       "  <tbody>\n",
       "    <tr>\n",
       "      <th>25568</th>\n",
       "      <td>999</td>\n",
       "      <td>75d6b589-7fae-4a6d-b0d0-752845150e56</td>\n",
       "      <td>audio</td>\n",
       "      <td>technology</td>\n",
       "      <td>dislike</td>\n",
       "    </tr>\n",
       "    <tr>\n",
       "      <th>25569</th>\n",
       "      <td>999</td>\n",
       "      <td>75d6b589-7fae-4a6d-b0d0-752845150e56</td>\n",
       "      <td>audio</td>\n",
       "      <td>technology</td>\n",
       "      <td>intrigued</td>\n",
       "    </tr>\n",
       "    <tr>\n",
       "      <th>25570</th>\n",
       "      <td>999</td>\n",
       "      <td>75d6b589-7fae-4a6d-b0d0-752845150e56</td>\n",
       "      <td>audio</td>\n",
       "      <td>technology</td>\n",
       "      <td>interested</td>\n",
       "    </tr>\n",
       "    <tr>\n",
       "      <th>25571</th>\n",
       "      <td>999</td>\n",
       "      <td>75d6b589-7fae-4a6d-b0d0-752845150e56</td>\n",
       "      <td>audio</td>\n",
       "      <td>technology</td>\n",
       "      <td>worried</td>\n",
       "    </tr>\n",
       "    <tr>\n",
       "      <th>25572</th>\n",
       "      <td>999</td>\n",
       "      <td>75d6b589-7fae-4a6d-b0d0-752845150e56</td>\n",
       "      <td>audio</td>\n",
       "      <td>technology</td>\n",
       "      <td>cherish</td>\n",
       "    </tr>\n",
       "  </tbody>\n",
       "</table>\n",
       "</div>"
      ],
      "text/plain": [
       "       Unnamed: 0                            Content ID Content_type   \n",
       "25568         999  75d6b589-7fae-4a6d-b0d0-752845150e56        audio  \\\n",
       "25569         999  75d6b589-7fae-4a6d-b0d0-752845150e56        audio   \n",
       "25570         999  75d6b589-7fae-4a6d-b0d0-752845150e56        audio   \n",
       "25571         999  75d6b589-7fae-4a6d-b0d0-752845150e56        audio   \n",
       "25572         999  75d6b589-7fae-4a6d-b0d0-752845150e56        audio   \n",
       "\n",
       "         Category Reaction_type  \n",
       "25568  technology       dislike  \n",
       "25569  technology     intrigued  \n",
       "25570  technology    interested  \n",
       "25571  technology       worried  \n",
       "25572  technology       cherish  "
      ]
     },
     "execution_count": 15,
     "metadata": {},
     "output_type": "execute_result"
    }
   ],
   "source": [
    "outer_merged.tail()"
   ]
  },
  {
   "cell_type": "code",
   "execution_count": 16,
   "metadata": {},
   "outputs": [],
   "source": [
    "merged = pd.merge(outer_merged,df2, how=\"outer\", on=[\"Reaction_type\"])"
   ]
  },
  {
   "cell_type": "code",
   "execution_count": 17,
   "metadata": {},
   "outputs": [
    {
     "name": "stdout",
     "output_type": "stream",
     "text": [
      "       Unnamed: 0                            Content ID Content_type   \n",
      "0               0  97522e57-d9ab-4bd6-97bf-c24d952602d2        photo  \\\n",
      "1               0  97522e57-d9ab-4bd6-97bf-c24d952602d2        photo   \n",
      "2               1  9f737e0a-3cdd-4d29-9d24-753f4e3be810        photo   \n",
      "3               1  9f737e0a-3cdd-4d29-9d24-753f4e3be810        photo   \n",
      "4               2  230c4e4d-70c3-461d-b42c-ec09396efb3f        photo   \n",
      "...           ...                                   ...          ...   \n",
      "25568         997  435007a5-6261-4d8b-b0a4-55fdc189754b        audio   \n",
      "25569         997  435007a5-6261-4d8b-b0a4-55fdc189754b        audio   \n",
      "25570         998  4e4c9690-c013-4ee7-9e66-943d8cbd27b7          GIF   \n",
      "25571         998  4e4c9690-c013-4ee7-9e66-943d8cbd27b7          GIF   \n",
      "25572         998  4e4c9690-c013-4ee7-9e66-943d8cbd27b7          GIF   \n",
      "\n",
      "             Category Reaction_type Sentiment  Score  \n",
      "0            Studying         heart  positive     60  \n",
      "1            Studying         heart  positive     60  \n",
      "2      healthy eating         heart  positive     60  \n",
      "3      healthy eating         heart  positive     60  \n",
      "4      healthy eating         heart  positive     60  \n",
      "...               ...           ...       ...    ...  \n",
      "25568        veganism         adore  positive     72  \n",
      "25569        veganism         adore  positive     72  \n",
      "25570         culture         adore  positive     72  \n",
      "25571         culture         adore  positive     72  \n",
      "25572         culture         adore  positive     72  \n",
      "\n",
      "[25573 rows x 7 columns]\n"
     ]
    }
   ],
   "source": [
    "print(merged)"
   ]
  },
  {
   "cell_type": "code",
   "execution_count": 18,
   "metadata": {},
   "outputs": [
    {
     "name": "stdout",
     "output_type": "stream",
     "text": [
      "   Unnamed: 0                            Content ID Content_type   \n",
      "0           0  97522e57-d9ab-4bd6-97bf-c24d952602d2        photo  \\\n",
      "1           0  97522e57-d9ab-4bd6-97bf-c24d952602d2        photo   \n",
      "2           1  9f737e0a-3cdd-4d29-9d24-753f4e3be810        photo   \n",
      "3           1  9f737e0a-3cdd-4d29-9d24-753f4e3be810        photo   \n",
      "4           2  230c4e4d-70c3-461d-b42c-ec09396efb3f        photo   \n",
      "\n",
      "         Category Reaction_type Sentiment  Score  \n",
      "0        Studying         heart  positive     60  \n",
      "1        Studying         heart  positive     60  \n",
      "2  healthy eating         heart  positive     60  \n",
      "3  healthy eating         heart  positive     60  \n",
      "4  healthy eating         heart  positive     60  \n"
     ]
    }
   ],
   "source": [
    "print(merged.head())"
   ]
  },
  {
   "cell_type": "code",
   "execution_count": 19,
   "metadata": {},
   "outputs": [
    {
     "data": {
      "text/plain": [
       "Unnamed: 0       0\n",
       "Content ID       0\n",
       "Content_type     0\n",
       "Category         0\n",
       "Reaction_type    0\n",
       "Sentiment        0\n",
       "Score            0\n",
       "dtype: int64"
      ]
     },
     "execution_count": 19,
     "metadata": {},
     "output_type": "execute_result"
    }
   ],
   "source": [
    "merged.isnull().sum()"
   ]
  },
  {
   "cell_type": "code",
   "execution_count": 20,
   "metadata": {},
   "outputs": [
    {
     "name": "stdout",
     "output_type": "stream",
     "text": [
      "       Unnamed: 0                            Content ID Content_type   \n",
      "25568         997  435007a5-6261-4d8b-b0a4-55fdc189754b        audio  \\\n",
      "25569         997  435007a5-6261-4d8b-b0a4-55fdc189754b        audio   \n",
      "25570         998  4e4c9690-c013-4ee7-9e66-943d8cbd27b7          GIF   \n",
      "25571         998  4e4c9690-c013-4ee7-9e66-943d8cbd27b7          GIF   \n",
      "25572         998  4e4c9690-c013-4ee7-9e66-943d8cbd27b7          GIF   \n",
      "\n",
      "       Category Reaction_type Sentiment  Score  \n",
      "25568  veganism         adore  positive     72  \n",
      "25569  veganism         adore  positive     72  \n",
      "25570   culture         adore  positive     72  \n",
      "25571   culture         adore  positive     72  \n",
      "25572   culture         adore  positive     72  \n"
     ]
    }
   ],
   "source": [
    "print(merged.tail())"
   ]
  },
  {
   "cell_type": "code",
   "execution_count": 21,
   "metadata": {},
   "outputs": [
    {
     "data": {
      "text/plain": [
       "(25573, 7)"
      ]
     },
     "execution_count": 21,
     "metadata": {},
     "output_type": "execute_result"
    }
   ],
   "source": [
    "merged.shape"
   ]
  },
  {
   "cell_type": "code",
   "execution_count": 22,
   "metadata": {},
   "outputs": [
    {
     "data": {
      "text/plain": [
       "Category\n",
       "animals            1873\n",
       "healthy eating     1772\n",
       "technology         1767\n",
       "science            1744\n",
       "cooking            1725\n",
       "culture            1701\n",
       "travel             1685\n",
       "food               1670\n",
       "education          1454\n",
       "soccer             1453\n",
       "dogs               1396\n",
       "tennis             1387\n",
       "studying           1374\n",
       "fitness            1318\n",
       "veganism           1286\n",
       "public speaking    1234\n",
       "Fitness             143\n",
       "Science             120\n",
       "Animals              96\n",
       "Food                 93\n",
       "Soccer               68\n",
       "Studying             47\n",
       "Culture              42\n",
       "Education            38\n",
       "Public Speaking      33\n",
       "Travel               31\n",
       "Veganism             12\n",
       "Healthy Eating        7\n",
       "Technology            4\n",
       "Name: count, dtype: int64"
      ]
     },
     "execution_count": 22,
     "metadata": {},
     "output_type": "execute_result"
    }
   ],
   "source": [
    "merged['Category'].value_counts()"
   ]
  },
  {
   "cell_type": "code",
   "execution_count": 27,
   "metadata": {},
   "outputs": [
    {
     "data": {
      "text/html": [
       "<div>\n",
       "<style scoped>\n",
       "    .dataframe tbody tr th:only-of-type {\n",
       "        vertical-align: middle;\n",
       "    }\n",
       "\n",
       "    .dataframe tbody tr th {\n",
       "        vertical-align: top;\n",
       "    }\n",
       "\n",
       "    .dataframe thead th {\n",
       "        text-align: right;\n",
       "    }\n",
       "</style>\n",
       "<table border=\"1\" class=\"dataframe\">\n",
       "  <thead>\n",
       "    <tr style=\"text-align: right;\">\n",
       "      <th></th>\n",
       "      <th>Unnamed: 0</th>\n",
       "      <th>Content ID</th>\n",
       "      <th>Content_type</th>\n",
       "      <th>Reaction_type</th>\n",
       "      <th>Sentiment</th>\n",
       "      <th>Score</th>\n",
       "    </tr>\n",
       "    <tr>\n",
       "      <th>Category</th>\n",
       "      <th></th>\n",
       "      <th></th>\n",
       "      <th></th>\n",
       "      <th></th>\n",
       "      <th></th>\n",
       "      <th></th>\n",
       "    </tr>\n",
       "  </thead>\n",
       "  <tbody>\n",
       "    <tr>\n",
       "      <th>Animals</th>\n",
       "      <td>32340</td>\n",
       "      <td>07f88a73-aef2-45fd-8b5d-418e448b853d429632b9-8...</td>\n",
       "      <td>GIFaudioaudioaudioaudiophotophotoGIFGIFaudioau...</td>\n",
       "      <td>heartheartheartheartheartheartheartheartheartd...</td>\n",
       "      <td>positivepositivepositivepositivepositivepositi...</td>\n",
       "      <td>3963</td>\n",
       "    </tr>\n",
       "    <tr>\n",
       "      <th>Culture</th>\n",
       "      <td>22050</td>\n",
       "      <td>6ddba21a-cc51-4bbd-b38d-02df5cec5f686ddba21a-c...</td>\n",
       "      <td>audioaudioaudioaudioaudioaudioaudioaudioaudioa...</td>\n",
       "      <td>heartheartdisgustdisgustdislikedislikescaredsc...</td>\n",
       "      <td>positivepositivenegativenegativenegativenegati...</td>\n",
       "      <td>1687</td>\n",
       "    </tr>\n",
       "    <tr>\n",
       "      <th>Education</th>\n",
       "      <td>11130</td>\n",
       "      <td>45752c15-a54c-4b0d-8fe3-f39c40f6c8d945752c15-a...</td>\n",
       "      <td>photophotoGIFphotophotophotophotophotophotopho...</td>\n",
       "      <td>heartheartheartdisgustdislikedislikedislikesca...</td>\n",
       "      <td>positivepositivepositivenegativenegativenegati...</td>\n",
       "      <td>1515</td>\n",
       "    </tr>\n",
       "    <tr>\n",
       "      <th>Fitness</th>\n",
       "      <td>34440</td>\n",
       "      <td>409aa11d-5af3-4a70-9da1-482857f5835e409aa11d-5...</td>\n",
       "      <td>GIFGIFGIFGIFGIFphotovideovideovideovideoaudioa...</td>\n",
       "      <td>hearthearthearthearthearthearthearthearthearth...</td>\n",
       "      <td>positivepositivepositivepositivepositivepositi...</td>\n",
       "      <td>5788</td>\n",
       "    </tr>\n",
       "    <tr>\n",
       "      <th>Food</th>\n",
       "      <td>68530</td>\n",
       "      <td>b2055111-9b7b-4a05-9f07-ac190a5391f0b2055111-9...</td>\n",
       "      <td>GIFGIFGIFGIFGIFGIFGIFGIFGIFGIFGIFGIFGIFGIFGIFG...</td>\n",
       "      <td>heartheartheartheartheartheartheartdisgustdisg...</td>\n",
       "      <td>positivepositivepositivepositivepositivepositi...</td>\n",
       "      <td>3624</td>\n",
       "    </tr>\n",
       "    <tr>\n",
       "      <th>Healthy Eating</th>\n",
       "      <td>5145</td>\n",
       "      <td>279fdb2b-e9ca-4531-b55f-c8fe294083cd279fdb2b-e...</td>\n",
       "      <td>videovideovideovideovideovideovideo</td>\n",
       "      <td>heartheartinterestedindifferentintriguedintrig...</td>\n",
       "      <td>positivepositivepositiveneutralpositivepositiv...</td>\n",
       "      <td>332</td>\n",
       "    </tr>\n",
       "    <tr>\n",
       "      <th>Public Speaking</th>\n",
       "      <td>31185</td>\n",
       "      <td>37c5a8aa-d239-4b94-ae68-2754825d36ff37c5a8aa-d...</td>\n",
       "      <td>photophotophotophotophotophotophotophotophotop...</td>\n",
       "      <td>heartheartheartheartheartheartheartdisgustdisg...</td>\n",
       "      <td>positivepositivepositivepositivepositivepositi...</td>\n",
       "      <td>1396</td>\n",
       "    </tr>\n",
       "    <tr>\n",
       "      <th>Science</th>\n",
       "      <td>105210</td>\n",
       "      <td>6f48fe2b-7c20-4065-8ae9-7bea61275dc76f48fe2b-7...</td>\n",
       "      <td>GIFGIFphotophotophotophotophotophotoaudioaudio...</td>\n",
       "      <td>hearthearthearthearthearthearthearthearthearth...</td>\n",
       "      <td>positivepositivepositivepositivepositivepositi...</td>\n",
       "      <td>4859</td>\n",
       "    </tr>\n",
       "    <tr>\n",
       "      <th>Soccer</th>\n",
       "      <td>31185</td>\n",
       "      <td>b27bfcfe-64df-499e-b60f-f93d2200c589b27bfcfe-6...</td>\n",
       "      <td>videovideovideoaudioaudioGIFvideoaudioaudioaud...</td>\n",
       "      <td>heartheartheartheartheartheartdisgustdisgustdi...</td>\n",
       "      <td>positivepositivepositivepositivepositivepositi...</td>\n",
       "      <td>2811</td>\n",
       "    </tr>\n",
       "    <tr>\n",
       "      <th>Studying</th>\n",
       "      <td>595</td>\n",
       "      <td>97522e57-d9ab-4bd6-97bf-c24d952602d297522e57-d...</td>\n",
       "      <td>photophotoGIFphotophotophotophotophotophotopho...</td>\n",
       "      <td>heartheartheartdisgustdisgustdisgustdislikedis...</td>\n",
       "      <td>positivepositivepositivenegativenegativenegati...</td>\n",
       "      <td>1461</td>\n",
       "    </tr>\n",
       "    <tr>\n",
       "      <th>Technology</th>\n",
       "      <td>1400</td>\n",
       "      <td>ad5ddd13-b8ea-4174-ad71-da1663c7f959ad5ddd13-b...</td>\n",
       "      <td>videovideovideovideo</td>\n",
       "      <td>heartcherishsuper loveadore</td>\n",
       "      <td>positivepositivepositivepositive</td>\n",
       "      <td>277</td>\n",
       "    </tr>\n",
       "    <tr>\n",
       "      <th>Travel</th>\n",
       "      <td>11795</td>\n",
       "      <td>2c0e1f1e-1af8-45b6-b8f2-9714358dd2ad2c0e1f1e-1...</td>\n",
       "      <td>audioaudiovideovideoaudiovideoaudioaudiovideov...</td>\n",
       "      <td>heartheartheartheartdisgustdisgustdislikedisli...</td>\n",
       "      <td>positivepositivepositivepositivenegativenegati...</td>\n",
       "      <td>1212</td>\n",
       "    </tr>\n",
       "    <tr>\n",
       "      <th>Veganism</th>\n",
       "      <td>1260</td>\n",
       "      <td>62681a6c-fe82-4186-ba7d-0805ae5b95ed62681a6c-f...</td>\n",
       "      <td>audioaudioaudioaudioaudioaudioaudioaudioaudioa...</td>\n",
       "      <td>heartdisgustcherishlovelovesuper lovesuper lov...</td>\n",
       "      <td>positivenegativepositivepositivepositivepositi...</td>\n",
       "      <td>704</td>\n",
       "    </tr>\n",
       "    <tr>\n",
       "      <th>animals</th>\n",
       "      <td>1033304</td>\n",
       "      <td>4fa14453-7b29-4302-b51f-9aa23b472c1b4fa14453-7...</td>\n",
       "      <td>audioaudioaudioaudioGIFvideophotophotophotopho...</td>\n",
       "      <td>hearthearthearthearthearthearthearthearthearth...</td>\n",
       "      <td>positivepositivepositivepositivepositivepositi...</td>\n",
       "      <td>75322</td>\n",
       "    </tr>\n",
       "    <tr>\n",
       "      <th>cooking</th>\n",
       "      <td>896233</td>\n",
       "      <td>cf1e8c1a-23eb-4426-9f58-002fb1b53e9102fa1c4f-7...</td>\n",
       "      <td>GIFvideovideovideovideovideoGIFGIFGIFGIFGIFGIF...</td>\n",
       "      <td>hearthearthearthearthearthearthearthearthearth...</td>\n",
       "      <td>positivepositivepositivepositivepositivepositi...</td>\n",
       "      <td>68416</td>\n",
       "    </tr>\n",
       "    <tr>\n",
       "      <th>culture</th>\n",
       "      <td>924689</td>\n",
       "      <td>259cd56f-b017-4a41-81a7-f26ce9b350922d949603-6...</td>\n",
       "      <td>videoaudioaudiovideovideoaudioaudioaudioaudiov...</td>\n",
       "      <td>hearthearthearthearthearthearthearthearthearth...</td>\n",
       "      <td>positivepositivepositivepositivepositivepositi...</td>\n",
       "      <td>68912</td>\n",
       "    </tr>\n",
       "    <tr>\n",
       "      <th>dogs</th>\n",
       "      <td>633279</td>\n",
       "      <td>3f8590c7-6ab2-4973-805a-90cdec355f053f8590c7-6...</td>\n",
       "      <td>videovideovideovideovideovideovideoaudioaudioa...</td>\n",
       "      <td>hearthearthearthearthearthearthearthearthearth...</td>\n",
       "      <td>positivepositivepositivepositivepositivepositi...</td>\n",
       "      <td>55991</td>\n",
       "    </tr>\n",
       "    <tr>\n",
       "      <th>education</th>\n",
       "      <td>653149</td>\n",
       "      <td>388bd9db-9d10-4f47-87c4-6db46e83bc95388bd9db-9...</td>\n",
       "      <td>videovideoaudioaudioaudioaudioaudioaudioGIFpho...</td>\n",
       "      <td>hearthearthearthearthearthearthearthearthearth...</td>\n",
       "      <td>positivepositivepositivepositivepositivepositi...</td>\n",
       "      <td>59461</td>\n",
       "    </tr>\n",
       "    <tr>\n",
       "      <th>fitness</th>\n",
       "      <td>682275</td>\n",
       "      <td>7ffd0a82-4a0a-4527-a4d6-e251b756bac7ab4c4756-1...</td>\n",
       "      <td>GIFaudioaudiophotophotophotophotophotoaudioGIF...</td>\n",
       "      <td>hearthearthearthearthearthearthearthearthearth...</td>\n",
       "      <td>positivepositivepositivepositivepositivepositi...</td>\n",
       "      <td>53495</td>\n",
       "    </tr>\n",
       "    <tr>\n",
       "      <th>food</th>\n",
       "      <td>773629</td>\n",
       "      <td>01ab84dd-6364-4236-abbb-3f237db7718081abd65a-3...</td>\n",
       "      <td>videovideovideovideovideovideovideoGIFGIFGIFvi...</td>\n",
       "      <td>hearthearthearthearthearthearthearthearthearth...</td>\n",
       "      <td>positivepositivepositivepositivepositivepositi...</td>\n",
       "      <td>66892</td>\n",
       "    </tr>\n",
       "    <tr>\n",
       "      <th>healthy eating</th>\n",
       "      <td>831602</td>\n",
       "      <td>9f737e0a-3cdd-4d29-9d24-753f4e3be8109f737e0a-3...</td>\n",
       "      <td>photophotophotophotophotophotophotoGIFGIFGIFGI...</td>\n",
       "      <td>hearthearthearthearthearthearthearthearthearth...</td>\n",
       "      <td>positivepositivepositivepositivepositivepositi...</td>\n",
       "      <td>72727</td>\n",
       "    </tr>\n",
       "    <tr>\n",
       "      <th>public speaking</th>\n",
       "      <td>577269</td>\n",
       "      <td>b18cb63f-4c8e-44ee-a47f-541e95191d11b18cb63f-4...</td>\n",
       "      <td>photophotophotophotophotoaudiovideovideovideov...</td>\n",
       "      <td>hearthearthearthearthearthearthearthearthearth...</td>\n",
       "      <td>positivepositivepositivepositivepositivepositi...</td>\n",
       "      <td>50868</td>\n",
       "    </tr>\n",
       "    <tr>\n",
       "      <th>science</th>\n",
       "      <td>952324</td>\n",
       "      <td>5118e9c5-1377-4cc5-a486-65b35b7b7b765118e9c5-1...</td>\n",
       "      <td>GIFGIFGIFGIFGIFGIFGIFGIFvideovideovideovideoau...</td>\n",
       "      <td>hearthearthearthearthearthearthearthearthearth...</td>\n",
       "      <td>positivepositivepositivepositivepositivepositi...</td>\n",
       "      <td>70389</td>\n",
       "    </tr>\n",
       "    <tr>\n",
       "      <th>soccer</th>\n",
       "      <td>665557</td>\n",
       "      <td>0bedca96-fb76-4287-a83c-17330ed39ccef332d362-d...</td>\n",
       "      <td>photoGIFGIFGIFGIFGIFGIFGIFvideovideovideoGIFGI...</td>\n",
       "      <td>hearthearthearthearthearthearthearthearthearth...</td>\n",
       "      <td>positivepositivepositivepositivepositivepositi...</td>\n",
       "      <td>58812</td>\n",
       "    </tr>\n",
       "    <tr>\n",
       "      <th>studying</th>\n",
       "      <td>638110</td>\n",
       "      <td>78d0075f-895c-4a15-a35c-a921e2bb2cea78d0075f-8...</td>\n",
       "      <td>photophotophotophotophotoaudioGIFGIFGIFGIFGIFG...</td>\n",
       "      <td>hearthearthearthearthearthearthearthearthearth...</td>\n",
       "      <td>positivepositivepositivepositivepositivepositi...</td>\n",
       "      <td>56288</td>\n",
       "    </tr>\n",
       "    <tr>\n",
       "      <th>technology</th>\n",
       "      <td>878515</td>\n",
       "      <td>356fff80-da4d-4785-9f43-bc1261031dc6356fff80-d...</td>\n",
       "      <td>photophotophotovideovideophotophotophotoGIFvid...</td>\n",
       "      <td>hearthearthearthearthearthearthearthearthearth...</td>\n",
       "      <td>positivepositivepositivepositivepositivepositi...</td>\n",
       "      <td>72841</td>\n",
       "    </tr>\n",
       "    <tr>\n",
       "      <th>tennis</th>\n",
       "      <td>636860</td>\n",
       "      <td>0be59876-d70c-486c-8e0b-a06bef7a2cd60be59876-d...</td>\n",
       "      <td>GIFGIFGIFGIFGIFGIFvideovideovideovideovideoGIF...</td>\n",
       "      <td>hearthearthearthearthearthearthearthearthearth...</td>\n",
       "      <td>positivepositivepositivepositivepositivepositi...</td>\n",
       "      <td>53879</td>\n",
       "    </tr>\n",
       "    <tr>\n",
       "      <th>travel</th>\n",
       "      <td>854879</td>\n",
       "      <td>e6ee2244-9382-49a9-8cbf-fa54aaaa2392bda0b065-7...</td>\n",
       "      <td>audiophotophotophotophotoGIFGIFGIFGIFGIFGIFGIF...</td>\n",
       "      <td>hearthearthearthearthearthearthearthearthearth...</td>\n",
       "      <td>positivepositivepositivepositivepositivepositi...</td>\n",
       "      <td>67808</td>\n",
       "    </tr>\n",
       "    <tr>\n",
       "      <th>veganism</th>\n",
       "      <td>704424</td>\n",
       "      <td>2920dccb-e06f-49fc-8049-b6d4164dfe842920dccb-e...</td>\n",
       "      <td>GIFGIFGIFGIFphotoGIFaudioGIFGIFGIFGIFGIFvideov...</td>\n",
       "      <td>hearthearthearthearthearthearthearthearthearth...</td>\n",
       "      <td>positivepositivepositivepositivepositivepositi...</td>\n",
       "      <td>51915</td>\n",
       "    </tr>\n",
       "  </tbody>\n",
       "</table>\n",
       "</div>"
      ],
      "text/plain": [
       "                 Unnamed: 0   \n",
       "Category                      \n",
       "Animals               32340  \\\n",
       "Culture               22050   \n",
       "Education             11130   \n",
       "Fitness               34440   \n",
       "Food                  68530   \n",
       "Healthy Eating         5145   \n",
       "Public Speaking       31185   \n",
       "Science              105210   \n",
       "Soccer                31185   \n",
       "Studying                595   \n",
       "Technology             1400   \n",
       "Travel                11795   \n",
       "Veganism               1260   \n",
       "animals             1033304   \n",
       "cooking              896233   \n",
       "culture              924689   \n",
       "dogs                 633279   \n",
       "education            653149   \n",
       "fitness              682275   \n",
       "food                 773629   \n",
       "healthy eating       831602   \n",
       "public speaking      577269   \n",
       "science              952324   \n",
       "soccer               665557   \n",
       "studying             638110   \n",
       "technology           878515   \n",
       "tennis               636860   \n",
       "travel               854879   \n",
       "veganism             704424   \n",
       "\n",
       "                                                        Content ID   \n",
       "Category                                                             \n",
       "Animals          07f88a73-aef2-45fd-8b5d-418e448b853d429632b9-8...  \\\n",
       "Culture          6ddba21a-cc51-4bbd-b38d-02df5cec5f686ddba21a-c...   \n",
       "Education        45752c15-a54c-4b0d-8fe3-f39c40f6c8d945752c15-a...   \n",
       "Fitness          409aa11d-5af3-4a70-9da1-482857f5835e409aa11d-5...   \n",
       "Food             b2055111-9b7b-4a05-9f07-ac190a5391f0b2055111-9...   \n",
       "Healthy Eating   279fdb2b-e9ca-4531-b55f-c8fe294083cd279fdb2b-e...   \n",
       "Public Speaking  37c5a8aa-d239-4b94-ae68-2754825d36ff37c5a8aa-d...   \n",
       "Science          6f48fe2b-7c20-4065-8ae9-7bea61275dc76f48fe2b-7...   \n",
       "Soccer           b27bfcfe-64df-499e-b60f-f93d2200c589b27bfcfe-6...   \n",
       "Studying         97522e57-d9ab-4bd6-97bf-c24d952602d297522e57-d...   \n",
       "Technology       ad5ddd13-b8ea-4174-ad71-da1663c7f959ad5ddd13-b...   \n",
       "Travel           2c0e1f1e-1af8-45b6-b8f2-9714358dd2ad2c0e1f1e-1...   \n",
       "Veganism         62681a6c-fe82-4186-ba7d-0805ae5b95ed62681a6c-f...   \n",
       "animals          4fa14453-7b29-4302-b51f-9aa23b472c1b4fa14453-7...   \n",
       "cooking          cf1e8c1a-23eb-4426-9f58-002fb1b53e9102fa1c4f-7...   \n",
       "culture          259cd56f-b017-4a41-81a7-f26ce9b350922d949603-6...   \n",
       "dogs             3f8590c7-6ab2-4973-805a-90cdec355f053f8590c7-6...   \n",
       "education        388bd9db-9d10-4f47-87c4-6db46e83bc95388bd9db-9...   \n",
       "fitness          7ffd0a82-4a0a-4527-a4d6-e251b756bac7ab4c4756-1...   \n",
       "food             01ab84dd-6364-4236-abbb-3f237db7718081abd65a-3...   \n",
       "healthy eating   9f737e0a-3cdd-4d29-9d24-753f4e3be8109f737e0a-3...   \n",
       "public speaking  b18cb63f-4c8e-44ee-a47f-541e95191d11b18cb63f-4...   \n",
       "science          5118e9c5-1377-4cc5-a486-65b35b7b7b765118e9c5-1...   \n",
       "soccer           0bedca96-fb76-4287-a83c-17330ed39ccef332d362-d...   \n",
       "studying         78d0075f-895c-4a15-a35c-a921e2bb2cea78d0075f-8...   \n",
       "technology       356fff80-da4d-4785-9f43-bc1261031dc6356fff80-d...   \n",
       "tennis           0be59876-d70c-486c-8e0b-a06bef7a2cd60be59876-d...   \n",
       "travel           e6ee2244-9382-49a9-8cbf-fa54aaaa2392bda0b065-7...   \n",
       "veganism         2920dccb-e06f-49fc-8049-b6d4164dfe842920dccb-e...   \n",
       "\n",
       "                                                      Content_type   \n",
       "Category                                                             \n",
       "Animals          GIFaudioaudioaudioaudiophotophotoGIFGIFaudioau...  \\\n",
       "Culture          audioaudioaudioaudioaudioaudioaudioaudioaudioa...   \n",
       "Education        photophotoGIFphotophotophotophotophotophotopho...   \n",
       "Fitness          GIFGIFGIFGIFGIFphotovideovideovideovideoaudioa...   \n",
       "Food             GIFGIFGIFGIFGIFGIFGIFGIFGIFGIFGIFGIFGIFGIFGIFG...   \n",
       "Healthy Eating                 videovideovideovideovideovideovideo   \n",
       "Public Speaking  photophotophotophotophotophotophotophotophotop...   \n",
       "Science          GIFGIFphotophotophotophotophotophotoaudioaudio...   \n",
       "Soccer           videovideovideoaudioaudioGIFvideoaudioaudioaud...   \n",
       "Studying         photophotoGIFphotophotophotophotophotophotopho...   \n",
       "Technology                                    videovideovideovideo   \n",
       "Travel           audioaudiovideovideoaudiovideoaudioaudiovideov...   \n",
       "Veganism         audioaudioaudioaudioaudioaudioaudioaudioaudioa...   \n",
       "animals          audioaudioaudioaudioGIFvideophotophotophotopho...   \n",
       "cooking          GIFvideovideovideovideovideoGIFGIFGIFGIFGIFGIF...   \n",
       "culture          videoaudioaudiovideovideoaudioaudioaudioaudiov...   \n",
       "dogs             videovideovideovideovideovideovideoaudioaudioa...   \n",
       "education        videovideoaudioaudioaudioaudioaudioaudioGIFpho...   \n",
       "fitness          GIFaudioaudiophotophotophotophotophotoaudioGIF...   \n",
       "food             videovideovideovideovideovideovideoGIFGIFGIFvi...   \n",
       "healthy eating   photophotophotophotophotophotophotoGIFGIFGIFGI...   \n",
       "public speaking  photophotophotophotophotoaudiovideovideovideov...   \n",
       "science          GIFGIFGIFGIFGIFGIFGIFGIFvideovideovideovideoau...   \n",
       "soccer           photoGIFGIFGIFGIFGIFGIFGIFvideovideovideoGIFGI...   \n",
       "studying         photophotophotophotophotoaudioGIFGIFGIFGIFGIFG...   \n",
       "technology       photophotophotovideovideophotophotophotoGIFvid...   \n",
       "tennis           GIFGIFGIFGIFGIFGIFvideovideovideovideovideoGIF...   \n",
       "travel           audiophotophotophotophotoGIFGIFGIFGIFGIFGIFGIF...   \n",
       "veganism         GIFGIFGIFGIFphotoGIFaudioGIFGIFGIFGIFGIFvideov...   \n",
       "\n",
       "                                                     Reaction_type   \n",
       "Category                                                             \n",
       "Animals          heartheartheartheartheartheartheartheartheartd...  \\\n",
       "Culture          heartheartdisgustdisgustdislikedislikescaredsc...   \n",
       "Education        heartheartheartdisgustdislikedislikedislikesca...   \n",
       "Fitness          hearthearthearthearthearthearthearthearthearth...   \n",
       "Food             heartheartheartheartheartheartheartdisgustdisg...   \n",
       "Healthy Eating   heartheartinterestedindifferentintriguedintrig...   \n",
       "Public Speaking  heartheartheartheartheartheartheartdisgustdisg...   \n",
       "Science          hearthearthearthearthearthearthearthearthearth...   \n",
       "Soccer           heartheartheartheartheartheartdisgustdisgustdi...   \n",
       "Studying         heartheartheartdisgustdisgustdisgustdislikedis...   \n",
       "Technology                             heartcherishsuper loveadore   \n",
       "Travel           heartheartheartheartdisgustdisgustdislikedisli...   \n",
       "Veganism         heartdisgustcherishlovelovesuper lovesuper lov...   \n",
       "animals          hearthearthearthearthearthearthearthearthearth...   \n",
       "cooking          hearthearthearthearthearthearthearthearthearth...   \n",
       "culture          hearthearthearthearthearthearthearthearthearth...   \n",
       "dogs             hearthearthearthearthearthearthearthearthearth...   \n",
       "education        hearthearthearthearthearthearthearthearthearth...   \n",
       "fitness          hearthearthearthearthearthearthearthearthearth...   \n",
       "food             hearthearthearthearthearthearthearthearthearth...   \n",
       "healthy eating   hearthearthearthearthearthearthearthearthearth...   \n",
       "public speaking  hearthearthearthearthearthearthearthearthearth...   \n",
       "science          hearthearthearthearthearthearthearthearthearth...   \n",
       "soccer           hearthearthearthearthearthearthearthearthearth...   \n",
       "studying         hearthearthearthearthearthearthearthearthearth...   \n",
       "technology       hearthearthearthearthearthearthearthearthearth...   \n",
       "tennis           hearthearthearthearthearthearthearthearthearth...   \n",
       "travel           hearthearthearthearthearthearthearthearthearth...   \n",
       "veganism         hearthearthearthearthearthearthearthearthearth...   \n",
       "\n",
       "                                                         Sentiment  Score  \n",
       "Category                                                                   \n",
       "Animals          positivepositivepositivepositivepositivepositi...   3963  \n",
       "Culture          positivepositivenegativenegativenegativenegati...   1687  \n",
       "Education        positivepositivepositivenegativenegativenegati...   1515  \n",
       "Fitness          positivepositivepositivepositivepositivepositi...   5788  \n",
       "Food             positivepositivepositivepositivepositivepositi...   3624  \n",
       "Healthy Eating   positivepositivepositiveneutralpositivepositiv...    332  \n",
       "Public Speaking  positivepositivepositivepositivepositivepositi...   1396  \n",
       "Science          positivepositivepositivepositivepositivepositi...   4859  \n",
       "Soccer           positivepositivepositivepositivepositivepositi...   2811  \n",
       "Studying         positivepositivepositivenegativenegativenegati...   1461  \n",
       "Technology                        positivepositivepositivepositive    277  \n",
       "Travel           positivepositivepositivepositivenegativenegati...   1212  \n",
       "Veganism         positivenegativepositivepositivepositivepositi...    704  \n",
       "animals          positivepositivepositivepositivepositivepositi...  75322  \n",
       "cooking          positivepositivepositivepositivepositivepositi...  68416  \n",
       "culture          positivepositivepositivepositivepositivepositi...  68912  \n",
       "dogs             positivepositivepositivepositivepositivepositi...  55991  \n",
       "education        positivepositivepositivepositivepositivepositi...  59461  \n",
       "fitness          positivepositivepositivepositivepositivepositi...  53495  \n",
       "food             positivepositivepositivepositivepositivepositi...  66892  \n",
       "healthy eating   positivepositivepositivepositivepositivepositi...  72727  \n",
       "public speaking  positivepositivepositivepositivepositivepositi...  50868  \n",
       "science          positivepositivepositivepositivepositivepositi...  70389  \n",
       "soccer           positivepositivepositivepositivepositivepositi...  58812  \n",
       "studying         positivepositivepositivepositivepositivepositi...  56288  \n",
       "technology       positivepositivepositivepositivepositivepositi...  72841  \n",
       "tennis           positivepositivepositivepositivepositivepositi...  53879  \n",
       "travel           positivepositivepositivepositivepositivepositi...  67808  \n",
       "veganism         positivepositivepositivepositivepositivepositi...  51915  "
      ]
     },
     "execution_count": 27,
     "metadata": {},
     "output_type": "execute_result"
    }
   ],
   "source": [
    "groups = merged.groupby([\"Category\"], sort=True).sum()\n",
    "groups"
   ]
  },
  {
   "cell_type": "code",
   "execution_count": 29,
   "metadata": {},
   "outputs": [],
   "source": [
    "# Save the DataFrame to a new excel file\n",
    "merged.to_excel('C:\\\\Users\\\\ASUS\\\\Desktop\\\\PROJECTS_DS\\\\Accenture-virtual-internship\\\\MERGED.xlsx', index=False)"
   ]
  },
  {
   "cell_type": "code",
   "execution_count": 32,
   "metadata": {},
   "outputs": [],
   "source": [
    "c_to_drop = ['Content ID', 'Content_type','Reaction_type','Sentiment']\n",
    "groups = groups.drop(c_to_drop, axis=1)"
   ]
  },
  {
   "cell_type": "code",
   "execution_count": 33,
   "metadata": {},
   "outputs": [
    {
     "data": {
      "text/html": [
       "<div>\n",
       "<style scoped>\n",
       "    .dataframe tbody tr th:only-of-type {\n",
       "        vertical-align: middle;\n",
       "    }\n",
       "\n",
       "    .dataframe tbody tr th {\n",
       "        vertical-align: top;\n",
       "    }\n",
       "\n",
       "    .dataframe thead th {\n",
       "        text-align: right;\n",
       "    }\n",
       "</style>\n",
       "<table border=\"1\" class=\"dataframe\">\n",
       "  <thead>\n",
       "    <tr style=\"text-align: right;\">\n",
       "      <th></th>\n",
       "      <th>Unnamed: 0</th>\n",
       "      <th>Score</th>\n",
       "    </tr>\n",
       "    <tr>\n",
       "      <th>Category</th>\n",
       "      <th></th>\n",
       "      <th></th>\n",
       "    </tr>\n",
       "  </thead>\n",
       "  <tbody>\n",
       "    <tr>\n",
       "      <th>Animals</th>\n",
       "      <td>32340</td>\n",
       "      <td>3963</td>\n",
       "    </tr>\n",
       "    <tr>\n",
       "      <th>Culture</th>\n",
       "      <td>22050</td>\n",
       "      <td>1687</td>\n",
       "    </tr>\n",
       "    <tr>\n",
       "      <th>Education</th>\n",
       "      <td>11130</td>\n",
       "      <td>1515</td>\n",
       "    </tr>\n",
       "    <tr>\n",
       "      <th>Fitness</th>\n",
       "      <td>34440</td>\n",
       "      <td>5788</td>\n",
       "    </tr>\n",
       "    <tr>\n",
       "      <th>Food</th>\n",
       "      <td>68530</td>\n",
       "      <td>3624</td>\n",
       "    </tr>\n",
       "  </tbody>\n",
       "</table>\n",
       "</div>"
      ],
      "text/plain": [
       "           Unnamed: 0  Score\n",
       "Category                    \n",
       "Animals         32340   3963\n",
       "Culture         22050   1687\n",
       "Education       11130   1515\n",
       "Fitness         34440   5788\n",
       "Food            68530   3624"
      ]
     },
     "execution_count": 33,
     "metadata": {},
     "output_type": "execute_result"
    }
   ],
   "source": [
    "groups.head()"
   ]
  },
  {
   "cell_type": "code",
   "execution_count": 35,
   "metadata": {},
   "outputs": [
    {
     "name": "stdout",
     "output_type": "stream",
     "text": [
      "<class 'pandas.core.frame.DataFrame'>\n",
      "Index: 29 entries, Animals to veganism\n",
      "Data columns (total 2 columns):\n",
      " #   Column      Non-Null Count  Dtype\n",
      "---  ------      --------------  -----\n",
      " 0   Unnamed: 0  29 non-null     int64\n",
      " 1   Score       29 non-null     int64\n",
      "dtypes: int64(2)\n",
      "memory usage: 696.0+ bytes\n"
     ]
    }
   ],
   "source": [
    "groups.info()"
   ]
  },
  {
   "cell_type": "code",
   "execution_count": 37,
   "metadata": {},
   "outputs": [],
   "source": [
    "groups.to_excel('C:\\\\Users\\\\ASUS\\\\Desktop\\\\PROJECTS_DS\\\\Accenture-virtual-internship\\\\Top_catog.xlsx', index=True)"
   ]
  }
 ],
 "metadata": {
  "kernelspec": {
   "display_name": "Python 3",
   "language": "python",
   "name": "python3"
  },
  "language_info": {
   "codemirror_mode": {
    "name": "ipython",
    "version": 3
   },
   "file_extension": ".py",
   "mimetype": "text/x-python",
   "name": "python",
   "nbconvert_exporter": "python",
   "pygments_lexer": "ipython3",
   "version": "3.9.0"
  },
  "orig_nbformat": 4
 },
 "nbformat": 4,
 "nbformat_minor": 2
}

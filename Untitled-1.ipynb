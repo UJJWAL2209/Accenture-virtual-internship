{
 "cells": [
  {
   "attachments": {},
   "cell_type": "markdown",
   "metadata": {},
   "source": [
    "# ACCENTURE VIRTUAL INTERNSHIP"
   ]
  },
  {
   "attachments": {},
   "cell_type": "markdown",
   "metadata": {},
   "source": [
    "<span style='color: red;'>DATA LOADING AND DATA CLEANINIG</span>"
   ]
  },
  {
   "cell_type": "code",
   "execution_count": 1,
   "metadata": {},
   "outputs": [
    {
     "name": "stdout",
     "output_type": "stream",
     "text": [
      "   Unnamed: 0                            Content ID   \n",
      "0           0  97522e57-d9ab-4bd6-97bf-c24d952602d2  \\\n",
      "1           1  9f737e0a-3cdd-4d29-9d24-753f4e3be810   \n",
      "2           2  230c4e4d-70c3-461d-b42c-ec09396efb3f   \n",
      "3           3  356fff80-da4d-4785-9f43-bc1261031dc6   \n",
      "4           4  01ab84dd-6364-4236-abbb-3f237db77180   \n",
      "\n",
      "                                User ID   Type        Category   \n",
      "0  8d3cd87d-8a31-4935-9a4f-b319bfe05f31  photo        Studying  \\\n",
      "1  beb1f34e-7870-46d6-9fc7-2e12eb83ce43  photo  healthy eating   \n",
      "2  a5c65404-5894-4b87-82f2-d787cbee86b4  photo  healthy eating   \n",
      "3  9fb4ce88-fac1-406c-8544-1a899cee7aaf  photo      technology   \n",
      "4  e206e31b-5f85-4964-b6ea-d7ee5324def1  video            food   \n",
      "\n",
      "                                                 URL  \n",
      "0  https://socialbuzz.cdn.com/content/storage/975...  \n",
      "1  https://socialbuzz.cdn.com/content/storage/9f7...  \n",
      "2  https://socialbuzz.cdn.com/content/storage/230...  \n",
      "3  https://socialbuzz.cdn.com/content/storage/356...  \n",
      "4  https://socialbuzz.cdn.com/content/storage/01a...  \n"
     ]
    }
   ],
   "source": [
    "import pandas as pd\n",
    "\n",
    "# Read the CSV file into a DataFrame\n",
    "df = pd.read_csv('C:\\\\Users\\\\ASUS\\\\Desktop\\\\PROJECTS_DS\\\\Accenture-virtual-internship\\\\not_cleaned_datasets\\\\Content.csv')\n",
    "\n",
    "# Access the data in the DataFrame\n",
    "print(df.head())  # Print the first few rows of the DataFrame\n"
   ]
  },
  {
   "cell_type": "code",
   "execution_count": 2,
   "metadata": {},
   "outputs": [
    {
     "name": "stdout",
     "output_type": "stream",
     "text": [
      "<class 'pandas.core.frame.DataFrame'>\n",
      "RangeIndex: 1000 entries, 0 to 999\n",
      "Data columns (total 6 columns):\n",
      " #   Column      Non-Null Count  Dtype \n",
      "---  ------      --------------  ----- \n",
      " 0   Unnamed: 0  1000 non-null   int64 \n",
      " 1   Content ID  1000 non-null   object\n",
      " 2   User ID     1000 non-null   object\n",
      " 3   Type        1000 non-null   object\n",
      " 4   Category    1000 non-null   object\n",
      " 5   URL         801 non-null    object\n",
      "dtypes: int64(1), object(5)\n",
      "memory usage: 47.0+ KB\n"
     ]
    }
   ],
   "source": [
    "df.info()"
   ]
  },
  {
   "cell_type": "code",
   "execution_count": 3,
   "metadata": {},
   "outputs": [
    {
     "name": "stdout",
     "output_type": "stream",
     "text": [
      "   Unnamed: 0                            Content ID   \n",
      "0           0  97522e57-d9ab-4bd6-97bf-c24d952602d2  \\\n",
      "1           1  97522e57-d9ab-4bd6-97bf-c24d952602d2   \n",
      "2           2  97522e57-d9ab-4bd6-97bf-c24d952602d2   \n",
      "3           3  97522e57-d9ab-4bd6-97bf-c24d952602d2   \n",
      "4           4  97522e57-d9ab-4bd6-97bf-c24d952602d2   \n",
      "\n",
      "                                User ID     Type             Datetime  \n",
      "0                                   NaN      NaN  2021-04-22 15:17:15  \n",
      "1  5d454588-283d-459d-915d-c48a2cb4c27f  disgust  2020-11-07 09:43:50  \n",
      "2  92b87fa5-f271-43e0-af66-84fac21052e6  dislike  2021-06-17 12:22:51  \n",
      "3  163daa38-8b77-48c9-9af6-37a6c1447ac2   scared  2021-04-18 05:13:58  \n",
      "4  34e8add9-0206-47fd-a501-037b994650a2  disgust  2021-01-06 19:13:01  \n"
     ]
    }
   ],
   "source": [
    "# Read the CSV file into a DataFrame\n",
    "df1 = pd.read_csv('C:\\\\Users\\\\ASUS\\\\Desktop\\\\PROJECTS_DS\\\\Accenture-virtual-internship\\\\not_cleaned_datasets\\\\Reactions.csv')\n",
    "\n",
    "# Access the data in the DataFrame\n",
    "print(df1.head())  # Print the first few rows of the DataFrame"
   ]
  },
  {
   "cell_type": "code",
   "execution_count": 4,
   "metadata": {},
   "outputs": [
    {
     "name": "stdout",
     "output_type": "stream",
     "text": [
      "<class 'pandas.core.frame.DataFrame'>\n",
      "RangeIndex: 25553 entries, 0 to 25552\n",
      "Data columns (total 5 columns):\n",
      " #   Column      Non-Null Count  Dtype \n",
      "---  ------      --------------  ----- \n",
      " 0   Unnamed: 0  25553 non-null  int64 \n",
      " 1   Content ID  25553 non-null  object\n",
      " 2   User ID     22534 non-null  object\n",
      " 3   Type        24573 non-null  object\n",
      " 4   Datetime    25553 non-null  object\n",
      "dtypes: int64(1), object(4)\n",
      "memory usage: 998.3+ KB\n"
     ]
    }
   ],
   "source": [
    "df1.info()"
   ]
  },
  {
   "cell_type": "code",
   "execution_count": 5,
   "metadata": {},
   "outputs": [
    {
     "name": "stdout",
     "output_type": "stream",
     "text": [
      "   Unnamed: 0        Type Sentiment  Score\n",
      "0           0       heart  positive     60\n",
      "1           1        want  positive     70\n",
      "2           2     disgust  negative      0\n",
      "3           3        hate  negative      5\n",
      "4           4  interested  positive     30\n"
     ]
    }
   ],
   "source": [
    "# Read the CSV file into a DataFrame\n",
    "df2 = pd.read_csv('C:\\\\Users\\\\ASUS\\\\Desktop\\\\PROJECTS_DS\\\\Accenture-virtual-internship\\\\not_cleaned_datasets\\\\ReactionTypes.csv')\n",
    "\n",
    "# Access the data in the DataFrame\n",
    "print(df2.head())  # Print the first few rows of the DataFrame"
   ]
  },
  {
   "cell_type": "code",
   "execution_count": 6,
   "metadata": {},
   "outputs": [
    {
     "name": "stdout",
     "output_type": "stream",
     "text": [
      "<class 'pandas.core.frame.DataFrame'>\n",
      "RangeIndex: 16 entries, 0 to 15\n",
      "Data columns (total 4 columns):\n",
      " #   Column      Non-Null Count  Dtype \n",
      "---  ------      --------------  ----- \n",
      " 0   Unnamed: 0  16 non-null     int64 \n",
      " 1   Type        16 non-null     object\n",
      " 2   Sentiment   16 non-null     object\n",
      " 3   Score       16 non-null     int64 \n",
      "dtypes: int64(2), object(2)\n",
      "memory usage: 640.0+ bytes\n"
     ]
    }
   ],
   "source": [
    "df2.info()"
   ]
  }
 ],
 "metadata": {
  "kernelspec": {
   "display_name": "Python 3",
   "language": "python",
   "name": "python3"
  },
  "language_info": {
   "codemirror_mode": {
    "name": "ipython",
    "version": 3
   },
   "file_extension": ".py",
   "mimetype": "text/x-python",
   "name": "python",
   "nbconvert_exporter": "python",
   "pygments_lexer": "ipython3",
   "version": "3.9.0"
  },
  "orig_nbformat": 4
 },
 "nbformat": 4,
 "nbformat_minor": 2
}
